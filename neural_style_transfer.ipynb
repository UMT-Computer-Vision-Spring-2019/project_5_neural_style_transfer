{
 "cells": [
  {
   "cell_type": "markdown",
   "metadata": {},
   "source": [
    "# Project 5: Neural Style Transfer\n",
    "## Due May 2nd\n",
    "\n",
    "## What do CNNs see?\n",
    "We have used neural networks primarily for the purposes of object recognition and image segmentation, as these are perhaps their most common uses.  However, the conceptual simplicity of the problem statement belie the complexity of the models under the hood.  In particular, we can ask: why are (convolutional) neural networks so good at these tasks that we have set out for them?  What are they doing that is so different from previous techniques?\n",
    "\n",
    "In short, neural networks work for abstract cases that would lead to failure for simpler methods.  Take \"Where's Waldo\" as an example.  As we saw, template matching was extremely sensitive to the quality of the template, and when Waldo appeared in a slightly different orientation, the algorithm failed abjectly.  CNNs on the other hand can recognize objects in a variety of poses, scales, etc. without difficulty.  They do this by creating a transformation of the input data (the image) that is relatively invariant to these changes, and that operates hierarchically.  For example, the first kernel(s) of a network tends to search for simple features: lines at various orientations, blobs, particular colors, and so on.  These features are in turn convolved with another set of kernels that activate on a more complex input with a larger receptive field: lines and colors become simple shapes.  At the next layer, simple shapes become something more complex: textures or anatomical features such as eyes.  Moving further up the network, eyes become pairs of eyes, pairs of eyes become faces, and faces pair with other features to become, say, a dog.  Each of these representations has some flexibility, and this flexibility when coupled with the progressively generated representation of an object of interest is what yields the capacity for convolutional neural networks to tackle objects with the capacity for abstraction similar to the human visual system.\n",
    "\n",
    "Because this hierarchy of features is generated programatically, *we have access to every level as the network builds up its representation of an object*.  We've been interested in the final product as the input to softmax classifier, but here we will explore the internal representation of objects in neural networks through a remarkable application known as *neural style transfer*.  \n",
    "\n",
    "## Style transfer\n",
    "Style transfer is the process of creating a new image that has the style of one image (which we will call the *style image*) and the content of another (the *content image*).  Here's an example of style transfer (by a person, not a network)\n",
    "<img src=chicken.jpg width=400/> \n",
    "We have a content image (the KFC logo) and a style image (the Obama Hope poster by Shephard Fairey).  Here, the literal content of the KFC logo is reproduced, but with the semantic content of the poster. \n",
    "\n",
    "## Neural style transfer\n",
    "Neural style transfer is the procedure of performing style transfer automatically with the help of neural networks.  While a few mechanisms have been proposed to solve this problem, we will utilize the [original approach](https://www.cv-foundation.org/openaccess/content_cvpr_2016/papers/Gatys_Image_Style_Transfer_CVPR_2016_paper.pdf).  For our example, let's use the following content and style images:"
   ]
  },
  {
   "cell_type": "code",
   "execution_count": 1,
   "metadata": {},
   "outputs": [
    {
     "name": "stderr",
     "output_type": "stream",
     "text": [
      "Using TensorFlow backend.\n"
     ]
    },
    {
     "data": {
      "text/plain": [
       "<Figure size 640x480 with 1 Axes>"
      ]
     },
     "metadata": {},
     "output_type": "display_data"
    },
    {
     "data": {
      "text/plain": [
       "<Figure size 640x480 with 1 Axes>"
      ]
     },
     "metadata": {},
     "output_type": "display_data"
    }
   ],
   "source": [
    "import keras.preprocessing as kp\n",
    "import matplotlib.pyplot as plt\n",
    "import numpy as np\n",
    "import keras.backend as K\n",
    "\n",
    "content_path = './main_hall.jpg'\n",
    "style_path = './starry_night.jpg'\n",
    "\n",
    "# Load image to get geometry\n",
    "temp_img = kp.image.load_img(content_path)\n",
    "width,height = temp_img.size\n",
    "\n",
    "# fix the number of rows, while adapting the aspect ratio\n",
    "img_rows = 400\n",
    "img_cols = int(width * img_rows / height)\n",
    "\n",
    "# Load content image\n",
    "content_img = kp.image.load_img(content_path, target_size=(img_rows, img_cols))\n",
    "content_img = kp.image.img_to_array(content_img)\n",
    "plt.figure()\n",
    "plt.imshow(content_img.astype(int))\n",
    "\n",
    "# Load style image\n",
    "style_img = kp.image.load_img(style_path, target_size=(img_rows, img_cols))\n",
    "style_img = kp.image.img_to_array(style_img)\n",
    "plt.figure()\n",
    "plt.imshow(style_img.astype(int))\n",
    "\n",
    "plt.show()"
   ]
  },
  {
   "cell_type": "markdown",
   "metadata": {},
   "source": [
    "At the most basic level, we seek to find the solution to the following problem\n",
    "$$\n",
    "\\hat{x} = \\underset{\\vec{x}}{\\operatorname{arg\\,min}} \\; \\left[\\alpha \\mathcal{L}_{content}(\\vec{p},\\vec{x}) + \\beta \\mathcal{L}_{style}(\\vec{a},\\vec{x}) + \\gamma \\mathcal{L}_{prior}(\\vec{x})\\right],\n",
    "$$\n",
    "where $\\vec{x}$ are the pixel values of the combined image, $\\vec{p}$ are the pixel values of the content image, and $\\vec{a}$ are the pixel values of the style image.  $\\mathcal{L}_{content}(\\vec{p},\\vec{x})$ is the so-called *content loss*, which measures the combined image's fidelity to the content image.  $\\mathcal{L}_{style}(\\vec{a},\\vec{x})$ is the *style loss*, which measures the combined image's stylistic similarity to the style image.  $\\mathcal{L}_{prior}(\\vec{x})$ is a prior which can be used to enforce constraints such as smoothness of the combined image.  $\\alpha$, $\\beta$, and $\\gamma$ are constants that we can use to tune the relative strength of each loss function.  Thus as $\\alpha/\\beta\\rightarrow 0$, style dominates, and vice versa.  As with most minimization problems, we will solve this by taking the derivative of this combined loss function with respect to $\\vec{x}$, and using some type of gradient descent to find a minimum.  \n",
    "\n",
    "## VGG19\n",
    "Where do neural networks come in?  We use neural networks to define the losses.  While it would certainly be possible to ask the algorithm to match the content image exactly, this isn't exactly what we want: rather, we want the features to match roughly, in an abstract way.  For example, if a door shows up in the content image, we want a door to show up in the style image, but it doesn't have to be exactly straight up and down, nor does it have to have the same color.  It just needs to be door-like in a general sense.  To do this, instead of asking the algorithm to minimize the difference between the combined image and the door, we can minimize the difference of feature maps computed at some layer of a convolutional neural network between the combined and content images.\n",
    "\n",
    "Of course we must select a neural network to use in order to make these feature representations.  In almost all instances of neural style transfer, the VGG19 network is used.  VGG19 is a fairly old network and far from the state of the art for tasks such as object recognition.  However, it almost unanimously provides the best results for neural style transfer, most likely because of its simplicity: there aren't any skip connections or other strange architectural styles, and the resulting features are thus closer to the ideal description of a neural network given above.  Packaged along with this notebook is a Keras implementation of VGG19, that also loads a set of weights pretrained on the [ImageNet](http://www.image-net.org/) dataset.  You can download the requisite weights [here](http://www.vlfeat.org/matconvnet/pretrained/#downloading-the-pre-trained-models).  (Note actually that the VGG19 provided by me is *not* the original VGG19, nor is it equivalent to the pre-trained model that is packaged with Keras: max-pooling has been replaced with average pooling, the activations have been broken out into explicit layers, and the weights are oriented such that it operates on mean-subtracted RGB images, rather than BGR.  These modifications provide better neural style transfer results.)\n",
    "\n",
    "First, we'll need to normalize the images in the way that VGG19 expects, which means subtracting the mean pixel value of the dataset used to train it: "
   ]
  },
  {
   "cell_type": "code",
   "execution_count": 2,
   "metadata": {},
   "outputs": [],
   "source": [
    "content_img[:, :, 0] -= 103.939\n",
    "content_img[:, :, 1] -= 116.779\n",
    "content_img[:, :, 2] -= 123.68\n",
    "content_img = np.expand_dims(content_img, axis=0)\n",
    "\n",
    "style_img[:, :, 0] -= 103.939\n",
    "style_img[:, :, 1] -= 116.779\n",
    "style_img[:, :, 2] -= 123.68\n",
    "style_img = np.expand_dims(style_img, axis=0)"
   ]
  },
  {
   "cell_type": "markdown",
   "metadata": {},
   "source": [
    "Next, let's instantiate a VGG19 model for the content image:"
   ]
  },
  {
   "cell_type": "code",
   "execution_count": 3,
   "metadata": {},
   "outputs": [
    {
     "name": "stdout",
     "output_type": "stream",
     "text": [
      "WARNING:tensorflow:From /home/dunbar/anaconda3/lib/python3.6/site-packages/tensorflow/python/framework/op_def_library.py:263: colocate_with (from tensorflow.python.framework.ops) is deprecated and will be removed in a future version.\n",
      "Instructions for updating:\n",
      "Colocations handled automatically by placer.\n"
     ]
    },
    {
     "data": {
      "image/png": "[encoded data removed]",
      "text/plain": [
       "<Figure size 432x288 with 1 Axes>"
      ]
     },
     "metadata": {
      "needs_background": "light"
     },
     "output_type": "display_data"
    }
   ],
   "source": [
    "import vgg\n",
    "import keras.backend as K\n",
    "import keras.layers as kl\n",
    "import keras.models as km\n",
    "\n",
    "# Note that we'll be working quite a bit with the TensorFlow objects that underlie Keras\n",
    "content_model_input = kl.Input(tensor=K.tf.Variable(content_img))\n",
    "\n",
    "content_base_model = vgg.VGG19(input_tensor=content_model_input)\n",
    "evaluator = K.function([content_base_model.input],[content_base_model.output])\n",
    "feature_maps = evaluator([content_img])\n",
    "plt.imshow(feature_maps[0][0,:,:,500])\n",
    "plt.show()\n",
    "\n"
   ]
  },
  {
   "cell_type": "code",
   "execution_count": 4,
   "metadata": {},
   "outputs": [
    {
     "name": "stdout",
     "output_type": "stream",
     "text": [
      "_________________________________________________________________\n",
      "Layer (type)                 Output Shape              Param #   \n",
      "=================================================================\n",
      "input_1 (InputLayer)         (1, 400, 543, 3)          0         \n",
      "_________________________________________________________________\n",
      "block1_conv1 (Conv2D)        (1, 400, 543, 64)         1792      \n",
      "_________________________________________________________________\n",
      "block1_relu1 (Activation)    (1, 400, 543, 64)         0         \n",
      "_________________________________________________________________\n",
      "block1_conv2 (Conv2D)        (1, 400, 543, 64)         36928     \n",
      "_________________________________________________________________\n",
      "block1_relu2 (Activation)    (1, 400, 543, 64)         0         \n",
      "_________________________________________________________________\n",
      "block1_pool (AveragePooling2 (1, 200, 271, 64)         0         \n",
      "_________________________________________________________________\n",
      "block2_conv1 (Conv2D)        (1, 200, 271, 128)        73856     \n",
      "_________________________________________________________________\n",
      "block2_relu1 (Activation)    (1, 200, 271, 128)        0         \n",
      "_________________________________________________________________\n",
      "block2_conv2 (Conv2D)        (1, 200, 271, 128)        147584    \n",
      "_________________________________________________________________\n",
      "block2_relu2 (Activation)    (1, 200, 271, 128)        0         \n",
      "_________________________________________________________________\n",
      "block2_pool (AveragePooling2 (1, 100, 135, 128)        0         \n",
      "_________________________________________________________________\n",
      "block3_conv1 (Conv2D)        (1, 100, 135, 256)        295168    \n",
      "_________________________________________________________________\n",
      "block3_relu1 (Activation)    (1, 100, 135, 256)        0         \n",
      "_________________________________________________________________\n",
      "block3_conv2 (Conv2D)        (1, 100, 135, 256)        590080    \n",
      "_________________________________________________________________\n",
      "block3_relu2 (Activation)    (1, 100, 135, 256)        0         \n",
      "_________________________________________________________________\n",
      "block3_conv3 (Conv2D)        (1, 100, 135, 256)        590080    \n",
      "_________________________________________________________________\n",
      "block3_relu3 (Activation)    (1, 100, 135, 256)        0         \n",
      "_________________________________________________________________\n",
      "block3_conv4 (Conv2D)        (1, 100, 135, 256)        590080    \n",
      "_________________________________________________________________\n",
      "block3_relu4 (Activation)    (1, 100, 135, 256)        0         \n",
      "_________________________________________________________________\n",
      "block3_pool (AveragePooling2 (1, 50, 67, 256)          0         \n",
      "_________________________________________________________________\n",
      "block4_conv1 (Conv2D)        (1, 50, 67, 512)          1180160   \n",
      "_________________________________________________________________\n",
      "block4_relu1 (Activation)    (1, 50, 67, 512)          0         \n",
      "_________________________________________________________________\n",
      "block4_conv2 (Conv2D)        (1, 50, 67, 512)          2359808   \n",
      "_________________________________________________________________\n",
      "block4_relu2 (Activation)    (1, 50, 67, 512)          0         \n",
      "_________________________________________________________________\n",
      "block4_conv3 (Conv2D)        (1, 50, 67, 512)          2359808   \n",
      "_________________________________________________________________\n",
      "block4_relu3 (Activation)    (1, 50, 67, 512)          0         \n",
      "_________________________________________________________________\n",
      "block4_conv4 (Conv2D)        (1, 50, 67, 512)          2359808   \n",
      "_________________________________________________________________\n",
      "block4_relu4 (Activation)    (1, 50, 67, 512)          0         \n",
      "_________________________________________________________________\n",
      "block4_pool (AveragePooling2 (1, 25, 33, 512)          0         \n",
      "_________________________________________________________________\n",
      "block5_conv1 (Conv2D)        (1, 25, 33, 512)          2359808   \n",
      "_________________________________________________________________\n",
      "block5_relu1 (Activation)    (1, 25, 33, 512)          0         \n",
      "_________________________________________________________________\n",
      "block5_conv2 (Conv2D)        (1, 25, 33, 512)          2359808   \n",
      "_________________________________________________________________\n",
      "block5_relu2 (Activation)    (1, 25, 33, 512)          0         \n",
      "_________________________________________________________________\n",
      "block5_conv3 (Conv2D)        (1, 25, 33, 512)          2359808   \n",
      "_________________________________________________________________\n",
      "block5_relu3 (Activation)    (1, 25, 33, 512)          0         \n",
      "_________________________________________________________________\n",
      "block5_conv4 (Conv2D)        (1, 25, 33, 512)          2359808   \n",
      "_________________________________________________________________\n",
      "block5_relu4 (Activation)    (1, 25, 33, 512)          0         \n",
      "_________________________________________________________________\n",
      "block5_pool (AveragePooling2 (1, 12, 16, 512)          0         \n",
      "=================================================================\n",
      "Total params: 20,024,384\n",
      "Trainable params: 20,024,384\n",
      "Non-trainable params: 0\n",
      "_________________________________________________________________\n"
     ]
    }
   ],
   "source": [
    "content_base_model.summary()"
   ]
  },
  {
   "cell_type": "markdown",
   "metadata": {},
   "source": [
    "The function defines above provides the output of the last activation in VGG19.  However, this is not the layer that we need.  Indeed, in the original neural style transfer paper, the authors found that good aesthetic properties were found by matching on the (unactivated) feature maps in the second convolution of the fourth block, called 'block4_conv2' (have a look at the VGG file if you're confused by what this means).  We can generate a new Keras model that does this for us easily:"
   ]
  },
  {
   "cell_type": "code",
   "execution_count": 5,
   "metadata": {},
   "outputs": [],
   "source": [
    "\n",
    "# Define the layer outputs that we are interested in\n",
    "content_layers = ['block4_conv2']\n",
    "\n",
    "# Get the tensor outputs of those layers\n",
    "content_outputs = [content_base_model.get_layer(n).output for n in content_layers]\n",
    "\n",
    "# Instantiate a new model with those outputs as outputs\n",
    "content_model = km.Model(inputs=content_base_model.inputs,outputs=[content_base_model.get_layer(n).output for n in content_layers])"
   ]
  },
  {
   "cell_type": "code",
   "execution_count": 6,
   "metadata": {},
   "outputs": [
    {
     "data": {
      "image/png": "[encoded data removed]",
      "text/plain": [
       "<Figure size 432x288 with 1 Axes>"
      ]
     },
     "metadata": {
      "needs_background": "light"
     },
     "output_type": "display_data"
    }
   ],
   "source": [
    "# This is not used any further, it's just for visualizing the features\n",
    "evaluator = K.function([content_model.input],[content_model.output])\n",
    "feature_maps = evaluator([content_img])\n",
    "plt.imshow(feature_maps[0][0,:,:,125])\n",
    "plt.show()"
   ]
  },
  {
   "cell_type": "markdown",
   "metadata": {},
   "source": [
    "**We'll need a similar model for the style image.  Generate a second neural network, this time asking the model to produce as outputs the layers block1_relu1, block2_relu1, block3_relu1, block4_relu1, and block5_relu1.**"
   ]
  },
  {
   "cell_type": "code",
   "execution_count": 7,
   "metadata": {},
   "outputs": [],
   "source": [
    "# Please call this second network 'style_model'\n",
    "\n",
    "#! Change me\n",
    "style_layers = ['block1_relu1','block2_relu1','block3_relu1','block4_relu1','block5_relu1']\n",
    "\n",
    "style_base_model = vgg.VGG19(input_tensor=kl.Input(tensor=K.tf.Variable(style_img)))\n",
    "\n",
    "style_model = km.Model(inputs=style_base_model.inputs,outputs=[style_base_model.get_layer(n).output for n in style_layers])\n",
    "\n"
   ]
  },
  {
   "cell_type": "markdown",
   "metadata": {},
   "source": [
    "Finally, we'll need a 3rd neural network to evaluate the features of the blended image.  We'll be comparing feature maps in the blended image to the equivalent feature maps in both the content and style image, so this model will need to yield the output of block4_conv2 and the five layers stated above.  Because the input to this final model is going to be dynamic (we'll be updating as we minimize the loss), we'll provide it with a more general input type with the same shape as the content image, but with no values specified."
   ]
  },
  {
   "cell_type": "code",
   "execution_count": 8,
   "metadata": {},
   "outputs": [],
   "source": [
    "# What are we saying about the size of the input image here?\n",
    "blended_model_input = kl.Input(shape=content_img.shape[1:])"
   ]
  },
  {
   "cell_type": "markdown",
   "metadata": {},
   "source": [
    "**Instantiate the third neural network for the blended image as you did the content and style images, but with a concatenated list of layers as outputs and the input as specified in the cell above**"
   ]
  },
  {
   "cell_type": "code",
   "execution_count": 10,
   "metadata": {},
   "outputs": [],
   "source": [
    "# Please call this third network 'blend_model'\n",
    "blend_layers = content_layers + style_layers\n",
    "\n",
    "blend_base_model = vgg.VGG19(input_tensor=blended_model_input)\n",
    "\n",
    "#! Change me\n",
    "blend_model = km.Model(inputs=blend_base_model.inputs,outputs=[blend_base_model.get_layer(n).output for n in blend_layers])\n",
    "\n",
    "# Separate the model outputs into those intended for comparison with the content layer and the style layer\n",
    "blend_content_outputs = [blend_model.outputs[0]]\n",
    "blend_style_outputs = blend_model.outputs[1:]"
   ]
  },
  {
   "cell_type": "markdown",
   "metadata": {},
   "source": [
    "## Defining the content loss\n",
    "\n",
    "Now we need to actually mathematically define the content loss.  This turns out to be rather simple: the content loss is just the (scaled) sum square error between the block4_conv2 features maps in the combined and content images:\n",
    "$$\n",
    "\\mathcal{L}_{content}(\\vec{p},\\vec{x}) = \\frac{1}{2 M^{\\frac{1}{2}} N^{\\frac{1}{2}}} \\sum \\left[F(\\vec{x})_\\ell - F(\\vec{p})_\\ell\\right]^2,\n",
    "$$\n",
    "where $F(\\vec{x})_\\ell$ is the CNN's output at layer $\\ell$.  The summation runs over all three tensor dimensions, $M$ is the image width times height, and $N$ is the image depth.\n",
    "\n",
    "**Implement a function that computes the content loss**"
   ]
  },
  {
   "cell_type": "code",
   "execution_count": 27,
   "metadata": {},
   "outputs": [
    {
     "name": "stdout",
     "output_type": "stream",
     "text": [
      "(1, 400, 543, 3)\n"
     ]
    },
    {
     "data": {
      "text/plain": [
       "[195710720.0]"
      ]
     },
     "execution_count": 27,
     "metadata": {},
     "output_type": "execute_result"
    }
   ],
   "source": [
    "def content_layer_loss(Fp, Fx):\n",
    "    _,h,w,d = Fp.get_shape().as_list()\n",
    "    X = 1/(2*((w*h)**.5)*(d**.5))\n",
    "    loss = X*K.sum((Fp-Fx)**2)\n",
    "\n",
    "    return loss\n",
    "\n",
    "content_loss = content_layer_loss(content_model.output,blend_content_outputs[0])\n",
    "\n",
    "# The correct output of this function is 195710720.0\n",
    "np.random.seed(0)\n",
    "input_img = np.random.randn(1,img_rows,img_cols,3)\n",
    "content_loss_evaluator = K.function([blend_model.input],[content_loss])\n",
    "print(input_img.shape)\n",
    "content_loss_evaluator([input_img])"
   ]
  },
  {
   "cell_type": "markdown",
   "metadata": {},
   "source": [
    "## Defining the style loss\n",
    "\n",
    "Now we need to define some metric for comparing the *style* between two images.  After watching the Ng videos, you should be aware that one way of doing this is by comparing Gram matrices.  \n",
    "\n",
    "The Gram matrix is sort of like a sample covariance, except that instead of measuring the similarity of data points with respect to the data features (as does a covariance matrix), the Gram matrix measures the similarity of features with respect to the data points.  Stated concretely and in this context, it measure the degree to which two feature maps tend to activate together.  It is computed similarly to the covariance matrix, but with the dimensions reversed (and without the mean subtracted):\n",
    "$$\n",
    "G(\\vec{f}) = f^T f, \n",
    "$$\n",
    "where $f$ is a set of $N$ feature maps reshaped to $\\mathbb{R}^{M \\times N}$ (i.e. flattened along the spatial dimension), where $M$ is once again width times height and $N$ is the number of feature maps.  \n",
    "\n",
    "**Implement a function that computes the Gram matrix**"
   ]
  },
  {
   "cell_type": "code",
   "execution_count": 13,
   "metadata": {},
   "outputs": [
    {
     "data": {
      "text/plain": [
       "113934860.0"
      ]
     },
     "execution_count": 13,
     "metadata": {},
     "output_type": "execute_result"
    }
   ],
   "source": [
    "def gram_matrix(f, M, N):\n",
    "     # Accepts a (height,width,depth)-sized feature map,\n",
    "     # reshapes to (M,N), then computes the inner product\n",
    "     # !Change me\n",
    "    f1 = K.transpose(K.reshape(f,(M,N)))\n",
    "    f2 = K.reshape(f,(M,N))\n",
    "    return f1@f2\n",
    "\n",
    "# For a correctly implemented gram_matrix, the following code will produce 113934860.0\n",
    "fmap = content_model.output\n",
    "_,h,w,d = fmap.get_shape()\n",
    "M = h*w\n",
    "N = d\n",
    "gram_matrix_evaluator = K.function([content_model.input],[gram_matrix(fmap,M,N)])\n",
    "gram_matrix_evaluator([content_img])[0].mean()"
   ]
  },
  {
   "cell_type": "markdown",
   "metadata": {},
   "source": [
    "Now that we have a method of computing gram matrices, we can simply compare them between images to assess whether the style metric is similar.  Note that we will do this over multiple style model layers to ensure that we are capturing stylistic similarites at a variety of spatial scales.  The style loss for a particular layer is then given as \n",
    "$$\n",
    "\\mathcal{L}_{style,\\ell}(\\vec{a},\\vec{x}) = \\frac{1}{4 M^2 N^2} \\sum_{i,j}^N \\left[ G(F(\\vec{a})_\\ell)_{ij} - G(F(\\vec{x})_\\ell)_{ij} \\right]^2.\n",
    "$$\n",
    "In plain language, what the above says is to compute the Gram matrix at layer $\\ell$ for both the style and blended images, and to compute the elementwise sum square error between them.\n",
    "\n",
    "**Implement a function that computes the style loss for one layer**"
   ]
  },
  {
   "cell_type": "code",
   "execution_count": 30,
   "metadata": {},
   "outputs": [
    {
     "data": {
      "text/plain": [
       "[220990.36]"
      ]
     },
     "execution_count": 30,
     "metadata": {},
     "output_type": "execute_result"
    }
   ],
   "source": [
    "def style_layer_loss(Fa, Fx):\n",
    "    _, h, w, d = Fa.get_shape().as_list()\n",
    "    __,h2,w2,d2 = Fx.get_shape().as_list()\n",
    "    Fa = gram_matrix(Fa,h*w,d)\n",
    "    Fx = gram_matrix(Fx,h2*w2,d2)\n",
    "    X = 1/(4*(((w*h)*(w2*h2))*(d*d2)))\n",
    "    loss =  X*K.sum((Fa-Fx)**2)\n",
    "    return loss\n",
    "  \n",
    "style_loss_0 = style_layer_loss(style_model.output[0],blend_style_outputs[0])\n",
    "\n",
    "# The correct output of this function is 220990.31\n",
    "np.random.seed(0)\n",
    "input_img = np.random.randn(1,img_rows,img_cols,3)\n",
    "style_loss_evaluator = K.function([blend_model.input],[style_loss_0])\n",
    "style_loss_evaluator([input_img])"
   ]
  },
  {
   "cell_type": "markdown",
   "metadata": {},
   "source": [
    "Finally, we'll need to add up style losses over all five layers that we wish to compute it over.  We may wish to adjust weights between different layers for different effects in the future, but for now let us just assume that each layer-wise style loss is equal to $\\frac{1}{5}$"
   ]
  },
  {
   "cell_type": "code",
   "execution_count": 31,
   "metadata": {},
   "outputs": [
    {
     "data": {
      "text/plain": [
       "[177059660.0]"
      ]
     },
     "execution_count": 31,
     "metadata": {},
     "output_type": "execute_result"
    }
   ],
   "source": [
    "style_loss = 0\n",
    "for i in range(5):\n",
    "    style_loss += 0.2*style_layer_loss(style_model.output[i],blend_style_outputs[i])\n",
    "    \n",
    "# The correct output of this function is 177059700.0\n",
    "np.random.seed(0)\n",
    "input_img = np.random.randn(1,img_rows,img_cols,3)\n",
    "style_loss_evaluator = K.function([blend_model.input],[style_loss])\n",
    "style_loss_evaluator([input_img])"
   ]
  },
  {
   "cell_type": "markdown",
   "metadata": {},
   "source": [
    "## Prior loss (regularization)\n",
    "While this doesn't have much to do with neural networks, it's part of the problem specification.  In particular, we want to make sure that our blended image isn't too noisy.  To do this, we'll simply add a penalty on [total variation](https://en.wikipedia.org/wiki/Total_variation), which is simply the summed up absolute values of the derivatives."
   ]
  },
  {
   "cell_type": "code",
   "execution_count": 33,
   "metadata": {},
   "outputs": [],
   "source": [
    "tv_loss = K.tf.image.total_variation(blend_model.input)"
   ]
  },
  {
   "cell_type": "markdown",
   "metadata": {},
   "source": [
    "## Total loss\n",
    "Finally, we can add these three losses up, scaled by some arbitrary weighting factors, to get a total loss:"
   ]
  },
  {
   "cell_type": "code",
   "execution_count": 34,
   "metadata": {},
   "outputs": [
    {
     "data": {
      "text/plain": [
       "[array([3.5509787e+11], dtype=float32)]"
      ]
     },
     "execution_count": 34,
     "metadata": {},
     "output_type": "execute_result"
    }
   ],
   "source": [
    "alpha = 5.0\n",
    "beta = 2e3\n",
    "gamma = 1e-3\n",
    "\n",
    "total_loss = alpha*content_loss + beta*style_loss + gamma*tv_loss\n",
    "    \n",
    "# The correct output of this function is 3.5509787e+11\n",
    "np.random.seed(0)\n",
    "input_img = np.random.randn(1,img_rows,img_cols,3)\n",
    "total_loss_evaluator = K.function([blend_model.input],[total_loss])\n",
    "total_loss_evaluator([input_img])"
   ]
  },
  {
   "cell_type": "markdown",
   "metadata": {},
   "source": [
    "## Optimization\n",
    "The blended image is the one that minimizes the loss defined above.  How do we find the minimum?  By following the gradient of the loss function \"downhill\".  It is important to remember that the dimensions of this problem are the RGB pixel values of the the input image.  How can we compute this gradient?  Tensorflow makes it quite easy through [automatic differentiation](https://en.wikipedia.org/wiki/Automatic_differentiation).  Note that this is essentially the same thing as backpropagation, but here we're taking the derivative of a loss defined on the intermediate layers of a neural network with respect to the inputs, versus in the normal NN learning case where we're finding the derivative of some cost function defined on network outputs with respect to the weights.  The command for computing a gradient in tensorflow is:"
   ]
  },
  {
   "cell_type": "code",
   "execution_count": 35,
   "metadata": {},
   "outputs": [
    {
     "name": "stdout",
     "output_type": "stream",
     "text": [
      "WARNING:tensorflow:From /home/dunbar/anaconda3/lib/python3.6/site-packages/tensorflow/python/ops/math_ops.py:3066: to_int32 (from tensorflow.python.ops.math_ops) is deprecated and will be removed in a future version.\n",
      "Instructions for updating:\n",
      "Use tf.cast instead.\n",
      "(?, 400, 543, 3)\n"
     ]
    }
   ],
   "source": [
    "grads = K.gradients(total_loss,blend_model.input)[0]\n",
    "print(grads.shape)"
   ]
  },
  {
   "cell_type": "markdown",
   "metadata": {},
   "source": [
    "This produces a tensor, but what we need is a function that takes our input image as an input, and outputs the loss and the gradient of the loss.  We can use the tensorflow 'function' to do this"
   ]
  },
  {
   "cell_type": "code",
   "execution_count": 39,
   "metadata": {},
   "outputs": [
    {
     "name": "stdout",
     "output_type": "stream",
     "text": [
      "[3.5509787e+11] -728.9879\n"
     ]
    }
   ],
   "source": [
    "loss_and_grad_evaluator = K.function([blend_model.input],[total_loss,grads])\n",
    "\n",
    "np.random.seed(0)\n",
    "input_img = np.random.randn(1,img_rows,img_cols,3)\n",
    "l0,g0 = loss_and_grad_evaluator([input_img])\n",
    "\n",
    "print(l0,g0[0][0][0][0])\n",
    "# Correct value of l0 is 3.5509e11\n",
    "# Correct value of first element in g0 is -7.28989e2"
   ]
  },
  {
   "cell_type": "markdown",
   "metadata": {},
   "source": [
    "We can now evaluate the loss and gradient for an arbitrary image input.  All that's left is to solve the minimization problem.  The authors of the original neural style transfer paper use l_bfgs.  There is a convenient implementation of this algorithm in scipy"
   ]
  },
  {
   "cell_type": "code",
   "execution_count": null,
   "metadata": {},
   "outputs": [],
   "source": [
    "import scipy.optimize as sio\n",
    "class evaluator():\n",
    "    def __init__(self,in_image):\n",
    "        _,self.h,self.w,self.d = in_image.shape                      \n",
    "    def loss(self,x):\n",
    "        x =  x.reshape((1,self.h,self.w,self.d))\n",
    "        loss,self.grad = loss_and_grad_evaluator([x])  \n",
    "        return loss.astype('float64')\n",
    "    def gradient(self,_):\n",
    "        return self.grad.astype('float64').flatten()\n",
    "Evaluator = evaluator(input_img)         \n",
    "outputImg,_,_ = sio.fmin_l_bfgs_b(Evaluator.loss, input_img.flatten().astype('float64'), fprime=Evaluator.gradient, maxiter=500,iprint=10)\n",
    "outputImg = outputImg.reshape(input_image.shape).squeeze()\n",
    "\n",
    "outputImg[:,:,0] += 103.939\n",
    "outputImg[:,:,1] += 116.779\n",
    "outputImg[:,:,2] += 123.68\n",
    "outputImg /= 255\n",
    "plt.imshow(outputImg)\n",
    "plt.show()\n",
    "\n"
   ]
  },
  {
   "cell_type": "markdown",
   "metadata": {},
   "source": [
    "**Use this method to find the image that minimizes the total loss.  Around 500 iterations is usually sufficient to produce fully converged results.**  \n",
    "\n",
    "A few gotchas: 1. the scipy algorithm expects a vector, while our method expects an array of size (1,height,width,3).  You'll need to do some reshaping of input and output arrays and puts the arguments to both the tensorflow function and to the scipy optimizer in the formats that they expect.  2. We have to compute the loss to compute the gradient, but the gradient of the loss doesn't change unless the loss is recomputed.  Thus, the functions that go into fmin_l_bfgs_b should be aware of that fact, and should avoid unnecessary computation.  Both (1) and (2) above can be addressed by generating a python class that have both a loss and gradient method that perform the necessary array reshapings internally, and that don't recompute the gradient once it's already been computed (stated concretely, the loss method should call \"loss_and_grad_evaluator\", and should return the loss while saving the gradient.  The gradient method should simply return this precomputed gradient.)\n",
    "\n",
    "Finally, when you output the result of your optimization, you'll want to re-add the band means we extracted earlier (R=103.939, G=116.779, B=123.68), cast the array back to integer, and clip any values greater than 255 before saving.  "
   ]
  }
 ],
 "metadata": {
  "kernelspec": {
   "display_name": "Python 3",
   "language": "python",
   "name": "python3"
  },
  "language_info": {
   "codemirror_mode": {
    "name": "ipython",
    "version": 3
   },
   "file_extension": ".py",
   "mimetype": "text/x-python",
   "name": "python",
   "nbconvert_exporter": "python",
   "pygments_lexer": "ipython3",
   "version": "3.6.8"
  }
 },
 "nbformat": 4,
 "nbformat_minor": 2
}
